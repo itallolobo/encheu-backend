{
 "cells": [
  {
   "cell_type": "code",
   "execution_count": 2,
   "metadata": {},
   "outputs": [
    {
     "name": "stderr",
     "output_type": "stream",
     "text": [
      "c:\\tools\\Anaconda3\\envs\\encheu\\lib\\site-packages\\scipy\\__init__.py:146: UserWarning: A NumPy version >=1.16.5 and <1.23.0 is required for this version of SciPy (detected version 1.23.1\n",
      "  warnings.warn(f\"A NumPy version >={np_minversion} and <{np_maxversion}\"\n"
     ]
    }
   ],
   "source": [
    "import geopandas as gpd\n",
    "import osmnx as ox\n",
    "import networkx as nx"
   ]
  },
  {
   "cell_type": "code",
   "execution_count": 5,
   "metadata": {},
   "outputs": [
    {
     "data": {
      "image/png": "[encoded data removed]",
      "text/plain": [
       "<Figure size 576x576 with 1 Axes>"
      ]
     },
     "metadata": {},
     "output_type": "display_data"
    }
   ],
   "source": [
    "G = ox.graph.graph_from_xml(\"./valadares.osm\")\n",
    "fig, ax = ox.plot_graph(G)"
   ]
  },
  {
   "cell_type": "code",
   "execution_count": 6,
   "metadata": {},
   "outputs": [
    {
     "data": {
      "text/html": [
       "<div>\n",
       "<style scoped>\n",
       "    .dataframe tbody tr th:only-of-type {\n",
       "        vertical-align: middle;\n",
       "    }\n",
       "\n",
       "    .dataframe tbody tr th {\n",
       "        vertical-align: top;\n",
       "    }\n",
       "\n",
       "    .dataframe thead th {\n",
       "        text-align: right;\n",
       "    }\n",
       "</style>\n",
       "<table border=\"1\" class=\"dataframe\">\n",
       "  <thead>\n",
       "    <tr style=\"text-align: right;\">\n",
       "      <th></th>\n",
       "      <th>y</th>\n",
       "      <th>x</th>\n",
       "      <th>highway</th>\n",
       "      <th>ref</th>\n",
       "      <th>geometry</th>\n",
       "    </tr>\n",
       "    <tr>\n",
       "      <th>osmid</th>\n",
       "      <th></th>\n",
       "      <th></th>\n",
       "      <th></th>\n",
       "      <th></th>\n",
       "      <th></th>\n",
       "    </tr>\n",
       "  </thead>\n",
       "  <tbody>\n",
       "    <tr>\n",
       "      <th>260589519</th>\n",
       "      <td>-19.237033</td>\n",
       "      <td>-42.317534</td>\n",
       "      <td>NaN</td>\n",
       "      <td>NaN</td>\n",
       "      <td>POINT (-42.31753 -19.23703)</td>\n",
       "    </tr>\n",
       "    <tr>\n",
       "      <th>260608896</th>\n",
       "      <td>-19.203451</td>\n",
       "      <td>-41.383921</td>\n",
       "      <td>NaN</td>\n",
       "      <td>NaN</td>\n",
       "      <td>POINT (-41.38392 -19.20345)</td>\n",
       "    </tr>\n",
       "    <tr>\n",
       "      <th>353336017</th>\n",
       "      <td>-18.854291</td>\n",
       "      <td>-41.976309</td>\n",
       "      <td>NaN</td>\n",
       "      <td>NaN</td>\n",
       "      <td>POINT (-41.97631 -18.85429)</td>\n",
       "    </tr>\n",
       "    <tr>\n",
       "      <th>353336108</th>\n",
       "      <td>-18.904840</td>\n",
       "      <td>-41.942961</td>\n",
       "      <td>NaN</td>\n",
       "      <td>NaN</td>\n",
       "      <td>POINT (-41.94296 -18.90484)</td>\n",
       "    </tr>\n",
       "    <tr>\n",
       "      <th>353336125</th>\n",
       "      <td>-18.900109</td>\n",
       "      <td>-41.945641</td>\n",
       "      <td>NaN</td>\n",
       "      <td>NaN</td>\n",
       "      <td>POINT (-41.94564 -18.90011)</td>\n",
       "    </tr>\n",
       "  </tbody>\n",
       "</table>\n",
       "</div>"
      ],
      "text/plain": [
       "                   y          x highway  ref                     geometry\n",
       "osmid                                                                    \n",
       "260589519 -19.237033 -42.317534     NaN  NaN  POINT (-42.31753 -19.23703)\n",
       "260608896 -19.203451 -41.383921     NaN  NaN  POINT (-41.38392 -19.20345)\n",
       "353336017 -18.854291 -41.976309     NaN  NaN  POINT (-41.97631 -18.85429)\n",
       "353336108 -18.904840 -41.942961     NaN  NaN  POINT (-41.94296 -18.90484)\n",
       "353336125 -18.900109 -41.945641     NaN  NaN  POINT (-41.94564 -18.90011)"
      ]
     },
     "execution_count": 6,
     "metadata": {},
     "output_type": "execute_result"
    }
   ],
   "source": [
    "gdf_nodes, gdf_edges = ox.graph_to_gdfs(G)\n",
    "gdf_nodes.head()"
   ]
  },
  {
   "cell_type": "code",
   "execution_count": 8,
   "metadata": {},
   "outputs": [
    {
     "ename": "NameError",
     "evalue": "name 'route' is not defined",
     "output_type": "error",
     "traceback": [
      "\u001b[1;31m---------------------------------------------------------------------------\u001b[0m",
      "\u001b[1;31mNameError\u001b[0m                                 Traceback (most recent call last)",
      "\u001b[1;32mc:\\Users\\itall\\Desktop\\dev\\encheu\\backend\\tools\\populate\\elevation_mapper\\main.ipynb Célula: 4\u001b[0m in \u001b[0;36m<cell line: 1>\u001b[1;34m()\u001b[0m\n\u001b[1;32m----> <a href='vscode-notebook-cell:/c%3A/Users/itall/Desktop/dev/encheu/backend/tools/populate/elevation_mapper/main.ipynb#W3sZmlsZQ%3D%3D?line=0'>1</a>\u001b[0m edge_lengths \u001b[39m=\u001b[39m ox\u001b[39m.\u001b[39mutils_graph\u001b[39m.\u001b[39mget_route_edge_attributes(G, route, \u001b[39m\"\u001b[39m\u001b[39mlength\u001b[39m\u001b[39m\"\u001b[39m)\n\u001b[0;32m      <a href='vscode-notebook-cell:/c%3A/Users/itall/Desktop/dev/encheu/backend/tools/populate/elevation_mapper/main.ipynb#W3sZmlsZQ%3D%3D?line=1'>2</a>\u001b[0m \u001b[39mround\u001b[39m(\u001b[39msum\u001b[39m(edge_lengths))\n",
      "\u001b[1;31mNameError\u001b[0m: name 'route' is not defined"
     ]
    }
   ],
   "source": [
    "edge_lengths = ox.utils_graph.get_route_edge_attributes(G, route, \"length\")\n",
    "round(sum(edge_lengths))\n"
   ]
  }
 ],
 "metadata": {
  "kernelspec": {
   "display_name": "Python 3.8.13 ('encheu')",
   "language": "python",
   "name": "python3"
  },
  "language_info": {
   "codemirror_mode": {
    "name": "ipython",
    "version": 3
   },
   "file_extension": ".py",
   "mimetype": "text/x-python",
   "name": "python",
   "nbconvert_exporter": "python",
   "pygments_lexer": "ipython3",
   "version": "3.8.13"
  },
  "orig_nbformat": 4,
  "vscode": {
   "interpreter": {
    "hash": "7c95123734ebcc9db483ad9e2d879d114e6126e7f297208c235a116e4e9c81bc"
   }
  }
 },
 "nbformat": 4,
 "nbformat_minor": 2
}
